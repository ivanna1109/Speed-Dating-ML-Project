{
 "cells": [
  {
   "cell_type": "code",
   "execution_count": 2,
   "metadata": {},
   "outputs": [],
   "source": [
    "import import_ipynb\n",
    "import load_data as ld"
   ]
  },
  {
   "cell_type": "code",
   "execution_count": 3,
   "metadata": {},
   "outputs": [
    {
     "name": "stdout",
     "output_type": "stream",
     "text": [
      "      iid    id  gender  idg  condtn  wave  round  position  positin1  order  \\\n",
      "0       1   1.0       0    1       1     1     10         7       NaN      4   \n",
      "1       1   1.0       0    1       1     1     10         7       NaN      3   \n",
      "2       1   1.0       0    1       1     1     10         7       NaN     10   \n",
      "3       1   1.0       0    1       1     1     10         7       NaN      5   \n",
      "4       1   1.0       0    1       1     1     10         7       NaN      7   \n",
      "...   ...   ...     ...  ...     ...   ...    ...       ...       ...    ...   \n",
      "8373  552  22.0       1   44       2    21     22        14      10.0      5   \n",
      "8374  552  22.0       1   44       2    21     22        13      10.0      4   \n",
      "8375  552  22.0       1   44       2    21     22        19      10.0     10   \n",
      "8376  552  22.0       1   44       2    21     22         3      10.0     16   \n",
      "8377  552   NaN       1   44       2    21     22         2      10.0     15   \n",
      "\n",
      "      ...  attr3_3  sinc3_3  intel3_3  fun3_3  amb3_3  attr5_3  sinc5_3  \\\n",
      "0     ...      5.0      7.0       7.0     7.0     7.0      NaN      NaN   \n",
      "1     ...      5.0      7.0       7.0     7.0     7.0      NaN      NaN   \n",
      "2     ...      5.0      7.0       7.0     7.0     7.0      NaN      NaN   \n",
      "3     ...      5.0      7.0       7.0     7.0     7.0      NaN      NaN   \n",
      "4     ...      5.0      7.0       7.0     7.0     7.0      NaN      NaN   \n",
      "...   ...      ...      ...       ...     ...     ...      ...      ...   \n",
      "8373  ...      8.0      5.0       7.0     6.0     7.0      9.0      5.0   \n",
      "8374  ...      8.0      5.0       7.0     6.0     7.0      9.0      5.0   \n",
      "8375  ...      8.0      5.0       7.0     6.0     7.0      9.0      5.0   \n",
      "8376  ...      8.0      5.0       7.0     6.0     7.0      9.0      5.0   \n",
      "8377  ...      8.0      5.0       7.0     6.0     7.0      9.0      5.0   \n",
      "\n",
      "      intel5_3  fun5_3  amb5_3  \n",
      "0          NaN     NaN     NaN  \n",
      "1          NaN     NaN     NaN  \n",
      "2          NaN     NaN     NaN  \n",
      "3          NaN     NaN     NaN  \n",
      "4          NaN     NaN     NaN  \n",
      "...        ...     ...     ...  \n",
      "8373       9.0     5.0     6.0  \n",
      "8374       9.0     5.0     6.0  \n",
      "8375       9.0     5.0     6.0  \n",
      "8376       9.0     5.0     6.0  \n",
      "8377       9.0     5.0     6.0  \n",
      "\n",
      "[8378 rows x 195 columns]\n"
     ]
    }
   ],
   "source": [
    "ld.read_data()"
   ]
  }
 ],
 "metadata": {
  "kernelspec": {
   "display_name": "Python 3",
   "language": "python",
   "name": "python3"
  },
  "language_info": {
   "codemirror_mode": {
    "name": "ipython",
    "version": 3
   },
   "file_extension": ".py",
   "mimetype": "text/x-python",
   "name": "python",
   "nbconvert_exporter": "python",
   "pygments_lexer": "ipython3",
   "version": "3.9.4"
  },
  "orig_nbformat": 4
 },
 "nbformat": 4,
 "nbformat_minor": 2
}
